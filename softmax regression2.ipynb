{
 "cells": [
  {
   "cell_type": "code",
   "execution_count": 55,
   "id": "e210ce48",
   "metadata": {},
   "outputs": [],
   "source": [
    "import torch\n",
    "from IPython import display\n",
    "from d2l import torch as d2l\n",
    "\n",
    "batch_size = 256\n",
    "train_iter, test_iter = d2l.load_data_fashion_mnist(batch_size)"
   ]
  },
  {
   "cell_type": "markdown",
   "id": "b920c680",
   "metadata": {},
   "source": [
    " 展平每图像，将它们视为长度为784的向量。因为我们的数据集有10个类别，所以网络输出维度为10"
   ]
  },
  {
   "cell_type": "code",
   "execution_count": 75,
   "id": "4e97fa1d",
   "metadata": {},
   "outputs": [],
   "source": [
    "num_inputs = 784\n",
    "num_outputs = 10\n",
    "\n",
    "W = torch.normal(0, 0.01, size=(num_inputs,num_outputs),requires_grad=True)\n",
    "b = torch.zeros(num_outputs,requires_grad=True)"
   ]
  },
  {
   "cell_type": "markdown",
   "id": "cc733070",
   "metadata": {},
   "source": [
    "给定一个矩阵x,对所有元素求和 "
   ]
  },
  {
   "cell_type": "code",
   "execution_count": 57,
   "id": "0880d493",
   "metadata": {},
   "outputs": [
    {
     "data": {
      "text/plain": [
       "(tensor([[5., 7., 9.]]),\n",
       " tensor([[ 6.],\n",
       "         [15.]]))"
      ]
     },
     "execution_count": 57,
     "metadata": {},
     "output_type": "execute_result"
    }
   ],
   "source": [
    "X = torch.tensor([[1.0, 2.0, 3.0], [4.0, 5.0, 6.0]])\n",
    "X.sum(0, keepdim=True),X.sum(1, keepdim=True)"
   ]
  },
  {
   "cell_type": "markdown",
   "id": "69558bec",
   "metadata": {},
   "source": [
    "实现softmax"
   ]
  },
  {
   "cell_type": "code",
   "execution_count": 58,
   "id": "95b898a4",
   "metadata": {},
   "outputs": [],
   "source": [
    "def softmax(X):\n",
    "    X_exp = torch.exp(X)\n",
    "    partition = X_exp.sum(1, keepdim=True)\n",
    "    return X_exp / partition # 这里应用了广播机制"
   ]
  },
  {
   "cell_type": "markdown",
   "id": "3c3b7c96",
   "metadata": {},
   "source": [
    "我们将每个元素变成一个非负数。此外，一句概率原理，每行总和为"
   ]
  },
  {
   "cell_type": "code",
   "execution_count": 59,
   "id": "4ceacb9e",
   "metadata": {},
   "outputs": [
    {
     "data": {
      "text/plain": [
       "(tensor([[0.1254, 0.1710, 0.0263, 0.0926, 0.5848],\n",
       "         [0.1926, 0.3333, 0.0748, 0.2006, 0.1986]]),\n",
       " tensor([1.0000, 1.0000]))"
      ]
     },
     "execution_count": 59,
     "metadata": {},
     "output_type": "execute_result"
    }
   ],
   "source": [
    "X = torch.normal(0, 1, (2, 5))\n",
    "X_prob = softmax(X)\n",
    "X_prob, X_prob.sum(1)"
   ]
  },
  {
   "cell_type": "markdown",
   "id": "2d65c7e6",
   "metadata": {},
   "source": [
    "实现softmax回归模型"
   ]
  },
  {
   "cell_type": "code",
   "execution_count": 86,
   "id": "aa34fbe7",
   "metadata": {},
   "outputs": [],
   "source": [
    "def net(x):\n",
    "    return softmax(torch.matmul(x.reshape(-1, W.shape[0]),W) +b )"
   ]
  },
  {
   "cell_type": "markdown",
   "id": "f63f091c",
   "metadata": {},
   "source": [
    "创建一个数据y_hat,其中包含2个样本在3个类别的预测概率，使用y作为y_hat中概率的索引\n"
   ]
  },
  {
   "cell_type": "code",
   "execution_count": 87,
   "id": "60835cac",
   "metadata": {},
   "outputs": [
    {
     "data": {
      "text/plain": [
       "tensor([0.1000, 0.5000])"
      ]
     },
     "execution_count": 87,
     "metadata": {},
     "output_type": "execute_result"
    }
   ],
   "source": [
    "y = torch.tensor([0, 2])\n",
    "y_hat = torch.tensor([[0.1, 0.3, 0.6], [0.3, 0.2, 0.5]])\n",
    "y_hat[[0,1],y] # 从第0个样本中拿出第一个值，从第1个样本中拿出第二个值"
   ]
  },
  {
   "cell_type": "markdown",
   "id": "5d1c63fa",
   "metadata": {},
   "source": [
    "实现交叉熵损失函数"
   ]
  },
  {
   "cell_type": "code",
   "execution_count": 88,
   "id": "34403dde",
   "metadata": {},
   "outputs": [
    {
     "data": {
      "text/plain": [
       "tensor([2.3026, 0.6931])"
      ]
     },
     "execution_count": 88,
     "metadata": {},
     "output_type": "execute_result"
    }
   ],
   "source": [
    "def cross_entropy(y_hat, y):\n",
    "    return -torch.log(y_hat[range(len(y_hat)), y]) \n",
    "\"\"\"\n",
    "交叉熵除了真值是1，其他的值都是0，因此-y*logyi=-logyi,yi是去真实值1的预测概率\n",
    "\"\"\"\n",
    "cross_entropy(y_hat, y)"
   ]
  },
  {
   "cell_type": "markdown",
   "id": "bb3dd28d",
   "metadata": {},
   "source": [
    "将预测类别与真实y元素进行比较"
   ]
  },
  {
   "cell_type": "code",
   "execution_count": 89,
   "id": "8a1bf72d",
   "metadata": {},
   "outputs": [
    {
     "data": {
      "text/plain": [
       "0.5"
      ]
     },
     "execution_count": 89,
     "metadata": {},
     "output_type": "execute_result"
    }
   ],
   "source": [
    "def accuracy(y_hat, y):\n",
    "    \"\"\"\n",
    "    计算预测正确的数量\n",
    "    \"\"\"\n",
    "    if len(y_hat.shape) > 1 and y_hat.shape[1] > 1:\n",
    "        y_hat = y_hat.argmax(axis =1) # 返回每一行最大元素对应的列下标\n",
    "    cmp = y_hat.type(y.dtype)  == y\n",
    "    return float(cmp.type(y.dtype).sum())\n",
    "\n",
    "accuracy(y_hat, y) / len(y)"
   ]
  },
  {
   "cell_type": "markdown",
   "id": "cfc9d208",
   "metadata": {},
   "source": [
    "我们可以评估在任意模型net的准确率\n"
   ]
  },
  {
   "cell_type": "code",
   "execution_count": 64,
   "id": "d53df824",
   "metadata": {},
   "outputs": [],
   "source": [
    "def evaluation_accuracy(net, data_iter):\n",
    "    \"\"\"\n",
    "    计算在指定数据集上的模型的精度\n",
    "    \"\"\"\n",
    "    if isinstance(net, torch.nn.Module):\n",
    "        net.eval()   # 将模型设置为评估模式\n",
    "    metric = Accumulator(2)  # 正确预测数，预测总数\n",
    "    for X, y in data_iter:\n",
    "        metric.add(accuracy(net(X),y),y.numel())\n",
    "    return metric[0] / metric[1]"
   ]
  },
  {
   "cell_type": "markdown",
   "id": "b1f08415",
   "metadata": {},
   "source": [
    "Accumulator实例中创建2个变量，用于分别存储正确预测的数量和预测的总数量\n",
    "    "
   ]
  },
  {
   "cell_type": "code",
   "execution_count": 90,
   "id": "4a70caef",
   "metadata": {},
   "outputs": [
    {
     "data": {
      "text/plain": [
       "0.118"
      ]
     },
     "execution_count": 90,
     "metadata": {},
     "output_type": "execute_result"
    }
   ],
   "source": [
    "class Accumulator:\n",
    "    \"\"\"\n",
    "    在n个变量上累加\n",
    "    \"\"\"\n",
    "    def __init__(self,n):\n",
    "        self.data = [0.0] * n\n",
    "    def add(self, *args):\n",
    "        self.data = [a + float(b) for a, b  in zip(self.data,args)]\n",
    "    def reset(self):\n",
    "        self.data  = [0.0] * len(self.data)\n",
    "    def __getitem__(self,idx):\n",
    "        return self.data[idx]\n",
    "    \n",
    "evaluation_accuracy(net, test_iter)"
   ]
  },
  {
   "cell_type": "markdown",
   "id": "820fdb5d",
   "metadata": {},
   "source": [
    "softmax回归的训练"
   ]
  },
  {
   "cell_type": "code",
   "execution_count": 100,
   "id": "09ad2de3",
   "metadata": {},
   "outputs": [],
   "source": [
    "def train_epoch_ch3(net, train_iter, loss, updater):\n",
    "    if isinstance(net, torch.nn.Module):\n",
    "        net.train()\n",
    "    metric = Accumulator(3)\n",
    "    for X, y in train_iter:\n",
    "        y_hat = net(X)\n",
    "        l = loss(y_hat, y)\n",
    "        if isinstance(updater, torch.optim.Optimizer):\n",
    "            updater.step()\n",
    "            metric.add(\n",
    "                float(l) * len(y),accuracy(y_hat, y),\n",
    "                y.size().numel())\n",
    "        else:\n",
    "            l.sum().backward()\n",
    "            updater(X.shape[0])\n",
    "            metric.add(float(l.sum()), accuracy(y_hat, y),y.numel())\n",
    "    return metric[0] / metric[2], metric[1]/metric[2]"
   ]
  },
  {
   "cell_type": "markdown",
   "id": "f197f7e0",
   "metadata": {},
   "source": [
    "训练函数"
   ]
  },
  {
   "cell_type": "code",
   "execution_count": 104,
   "id": "75edf7b3",
   "metadata": {},
   "outputs": [],
   "source": [
    "def train_ch3(net, train_iter, test_iter, loss, num_epochs, updater):\n",
    "    for epoch in range(num_epochs):\n",
    "        train_metrics = train_epoch_ch3(net, train_iter, loss, updater)\n",
    "        test_acc = evaluation_accuracy(net,test_iter)\n",
    "    train_loss, train_acc = train_metrics"
   ]
  },
  {
   "cell_type": "markdown",
   "id": "e6468765",
   "metadata": {},
   "source": [
    "小批量随机梯度下降来优化模型的损失函数"
   ]
  },
  {
   "cell_type": "code",
   "execution_count": 105,
   "id": "d2ef432c",
   "metadata": {},
   "outputs": [],
   "source": [
    "lr = 0.1\n",
    "\n",
    "def updater(batch_size):\n",
    "    return d2l.sgd([W, b], lr, batch_size)"
   ]
  },
  {
   "cell_type": "markdown",
   "id": "5b648799",
   "metadata": {},
   "source": [
    "训练模型10个迭代周期"
   ]
  },
  {
   "cell_type": "code",
   "execution_count": 106,
   "id": "213e6ae0",
   "metadata": {},
   "outputs": [],
   "source": [
    "num_epochs = 10\n",
    "train_ch3(net, train_iter, test_iter, cross_entropy, num_epochs, updater)"
   ]
  },
  {
   "cell_type": "markdown",
   "id": "528aaab8",
   "metadata": {},
   "source": [
    "对图像进行分类预测"
   ]
  },
  {
   "cell_type": "code",
   "execution_count": 113,
   "id": "fc22e72e",
   "metadata": {},
   "outputs": [
    {
     "data": {
      "image/png": "[encoded data removed]",
      "text/plain": [
       "<Figure size 1080x108 with 10 Axes>"
      ]
     },
     "metadata": {
      "needs_background": "light"
     },
     "output_type": "display_data"
    }
   ],
   "source": [
    "def predict_ch3(net, test_iter, n=10):\n",
    "    \"\"\"\n",
    "    预测标签\n",
    "    \"\"\"\n",
    "    for X, y in test_iter:\n",
    "        break\n",
    "    trues = d2l.get_fashion_mnist_labels(y)\n",
    "    preds = d2l.get_fashion_mnist_labels(net(X).argmax(axis=1))\n",
    "    titles = [true + '\\n' + pred for true ,pred in zip(trues,preds)]\n",
    "    d2l.show_images(X[0:n].reshape((n,28,28)),1,n,titles=titles[0:n])\n",
    "    \n",
    "predict_ch3(net, test_iter)"
   ]
  },
  {
   "cell_type": "code",
   "execution_count": null,
   "id": "d90a49a1",
   "metadata": {},
   "outputs": [],
   "source": []
  }
 ],
 "metadata": {
  "kernelspec": {
   "display_name": "Python 3 (ipykernel)",
   "language": "python",
   "name": "python3"
  },
  "language_info": {
   "codemirror_mode": {
    "name": "ipython",
    "version": 3
   },
   "file_extension": ".py",
   "mimetype": "text/x-python",
   "name": "python",
   "nbconvert_exporter": "python",
   "pygments_lexer": "ipython3",
   "version": "3.7.12"
  }
 },
 "nbformat": 4,
 "nbformat_minor": 5
}
